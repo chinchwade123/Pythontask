{
 "cells": [
  {
   "cell_type": "code",
   "execution_count": 2,
   "id": "3362db0e-5eef-43be-bd1b-b2f0588fb08c",
   "metadata": {},
   "outputs": [
    {
     "name": "stdout",
     "output_type": "stream",
     "text": [
      "The Missing No is:- 4\n"
     ]
    }
   ],
   "source": [
    "def find_missing_number(arr):\n",
    "    n=len(arr)  \n",
    "    total=(n*(n+1))//2\n",
    "    actual_sum = sum(arr)\n",
    "    return total - actual_sum \n",
    "arr = [3,0,1,2,5]\n",
    "print(\"The Missing No is:-\",find_missing_number(arr))"
   ]
  },
  {
   "cell_type": "code",
   "execution_count": 3,
   "id": "15eeedc4-6d6f-406d-b5a5-9b290f13faee",
   "metadata": {},
   "outputs": [
    {
     "name": "stdin",
     "output_type": "stream",
     "text": [
      "Enter the Parentheses:-  {}\n"
     ]
    },
    {
     "name": "stdout",
     "output_type": "stream",
     "text": [
      "This is Parentheses True or False:- True\n"
     ]
    }
   ],
   "source": [
    "def is_valid(brackets: str) -> bool:\n",
    "    temp = [None] * len(brackets)  \n",
    "    index = -1 \n",
    "\n",
    "    for ch in brackets:\n",
    "        if ch == '(' or ch == '{' or ch == '[':\n",
    "            index += 1\n",
    "            temp[index] = ch \n",
    "        elif ch == ')' or ch == '}' or ch == ']':\n",
    "            if index == -1:\n",
    "                return False\n",
    "            if (ch == ')' and temp[index] != '(') or \\\n",
    "               (ch == '}' and temp[index] != '{') or \\\n",
    "               (ch == ']' and temp[index] != '['):\n",
    "                return False\n",
    "            index -= 1  \n",
    "\n",
    "    return index == -1\n",
    "\n",
    "\n",
    "user_input = input(\"Enter the Parentheses:- \")\n",
    "print(\"This is Parentheses True or False:-\", is_valid(user_input))\n"
   ]
  },
  {
   "cell_type": "code",
   "execution_count": 14,
   "id": "7fe34b33-1cab-4b54-9558-518be8d0086d",
   "metadata": {},
   "outputs": [
    {
     "name": "stdout",
     "output_type": "stream",
     "text": [
      "The Unique Char is:- w\n"
     ]
    }
   ],
   "source": [
    "def first_unique_char(s: str) -> str:\n",
    "    \n",
    "    char_count = {}\n",
    "    for char in s:\n",
    "        char_count[char] = char_count.get(char, 0) + 1\n",
    "    \n",
    "    for char in s:\n",
    "        if char_count[char] == 1:\n",
    "            return char\n",
    "    return \"None\"\n",
    "\n",
    "s = \"swiss\"\n",
    "print(\"The Unique Char is:-\",first_unique_char(s))\n"
   ]
  },
  {
   "cell_type": "code",
   "execution_count": 19,
   "id": "f3fc3860-f6fd-4938-acaf-4f94f3ebf4ea",
   "metadata": {},
   "outputs": [
    {
     "name": "stdout",
     "output_type": "stream",
     "text": [
      "[['eat', 'tea', 'ate'], ['tan', 'nat'], ['bat']]\n"
     ]
    }
   ],
   "source": [
    "def group_anagrams(words):\n",
    "    anagram_groups = {}\n",
    "    \n",
    "    for word in words:\n",
    "       \n",
    "        sorted_word = ' '.join(sorted(word))\n",
    "        \n",
    "       \n",
    "        if sorted_word in anagram_groups:\n",
    "            anagram_groups[sorted_word].append(word)\n",
    "        else:\n",
    "            anagram_groups[sorted_word] = [word]\n",
    "    \n",
    "    \n",
    "    return list(anagram_groups.values())\n",
    "\n",
    "\n",
    "words = [\"eat\",\"tea\",\"tan\",\"ate\",\"nat\",\"bat\"]\n",
    "print(group_anagrams(words))"
   ]
  },
  {
   "cell_type": "code",
   "execution_count": 13,
   "id": "2003f4a7-9a25-4829-887e-6625814c3806",
   "metadata": {},
   "outputs": [
    {
     "name": "stdout",
     "output_type": "stream",
     "text": [
      "The 2 nd largest number is: 5\n"
     ]
    }
   ],
   "source": [
    "def find_kth_largest(numbers: list, k: int) -> int:\n",
    "    \n",
    "    n = len(numbers)\n",
    "    for i in range(n):\n",
    "        max_index = i\n",
    "        for j in range(i + 1, n):\n",
    "            if numbers[j] > numbers[max_index]:\n",
    "                max_index = j\n",
    "       \n",
    "        temp = numbers[i]\n",
    "        numbers[i] = numbers[max_index]\n",
    "        numbers[max_index] = temp\n",
    "\n",
    "   \n",
    "    return numbers[k - 1]\n",
    "\n",
    "nums = [3,2,1,5,6,4]\n",
    "k = 2\n",
    "print(\"The\", k,\"nd largest number is:\", find_kth_largest(nums, k))\n"
   ]
  },
  {
   "cell_type": "code",
   "execution_count": null,
   "id": "5e92dc67-f7ca-4bfe-9fc6-43613547a2d9",
   "metadata": {},
   "outputs": [],
   "source": []
  }
 ],
 "metadata": {
  "kernelspec": {
   "display_name": "Python [conda env:base] *",
   "language": "python",
   "name": "conda-base-py"
  },
  "language_info": {
   "codemirror_mode": {
    "name": "ipython",
    "version": 3
   },
   "file_extension": ".py",
   "mimetype": "text/x-python",
   "name": "python",
   "nbconvert_exporter": "python",
   "pygments_lexer": "ipython3",
   "version": "3.12.7"
  }
 },
 "nbformat": 4,
 "nbformat_minor": 5
}
